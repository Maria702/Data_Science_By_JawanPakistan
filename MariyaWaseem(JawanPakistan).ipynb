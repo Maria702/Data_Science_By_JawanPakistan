{
 "cells": [
  {
   "cell_type": "markdown",
   "metadata": {},
   "source": [
    "# DATA SCIENCE BY JAWAN PAKISTAN"
   ]
  },
  {
   "cell_type": "markdown",
   "metadata": {},
   "source": [
    "# Assignment 1"
   ]
  },
  {
   "cell_type": "markdown",
   "metadata": {},
   "source": [
    "# Task 1 \n",
    "Print the string in a specific format"
   ]
  },
  {
   "cell_type": "code",
   "execution_count": 9,
   "metadata": {},
   "outputs": [
    {
     "name": "stdout",
     "output_type": "stream",
     "text": [
      "Twinkle, twinkle, little star, \n",
      "\t How I wonder what you are! \n",
      "\t\t Up above the world so high, \n",
      "\t\t Like a diamond in the sky. \n",
      " Twinkle, twinkle, little star, \n",
      "\t How I wonder what you are....\n"
     ]
    }
   ],
   "source": [
    "print('Twinkle, twinkle, little star, \\n\\t How I wonder what you are! \\n\\t\\t Up above the world so high, \\n\\t\\t Like a diamond in the sky. \\n Twinkle, twinkle, little star, \\n\\t How I wonder what you are....');"
   ]
  },
  {
   "cell_type": "markdown",
   "metadata": {},
   "source": [
    "# Task 2\n",
    "print Python version you are using.."
   ]
  },
  {
   "cell_type": "code",
   "execution_count": 11,
   "metadata": {},
   "outputs": [
    {
     "name": "stdout",
     "output_type": "stream",
     "text": [
      " The Python Version is :  3.7.6 (default, Jan  8 2020, 16:21:45) [MSC v.1916 32 bit (Intel)]\n"
     ]
    }
   ],
   "source": [
    "import sys;\n",
    "print(\" The Python Version is : \" , sys.version);"
   ]
  },
  {
   "cell_type": "markdown",
   "metadata": {},
   "source": [
    "# Task 3\n",
    "Display a current date and time..."
   ]
  },
  {
   "cell_type": "code",
   "execution_count": 13,
   "metadata": {},
   "outputs": [
    {
     "name": "stdout",
     "output_type": "stream",
     "text": [
      "The Current Date and Time is = 2021-12-29 14:02:47.937321\n"
     ]
    }
   ],
   "source": [
    "import datetime\n",
    "\n",
    "data = datetime.datetime.now();\n",
    "print ('The Current Date and Time is = %s' % data);"
   ]
  },
  {
   "cell_type": "markdown",
   "metadata": {},
   "source": [
    "# Task 4\n",
    "To accept the raduis of a circle from the user and compute the area..."
   ]
  },
  {
   "cell_type": "code",
   "execution_count": 14,
   "metadata": {},
   "outputs": [
    {
     "name": "stdout",
     "output_type": "stream",
     "text": [
      "Enter the radius of a circle : 5\n",
      "The Area of a Circle is : 78.53981633974483\n"
     ]
    }
   ],
   "source": [
    "from math import pi\n",
    "\n",
    "radius = float(input ('Enter the radius of a circle : '));\n",
    "print ( 'The Area of a Circle is : ' + str(pi * radius**2));"
   ]
  },
  {
   "cell_type": "markdown",
   "metadata": {},
   "source": [
    "# Task 5\n",
    "To accept the user's first and last name and print them in a reverse order with space b/w them"
   ]
  },
  {
   "cell_type": "code",
   "execution_count": 18,
   "metadata": {},
   "outputs": [
    {
     "name": "stdout",
     "output_type": "stream",
     "text": [
      "Enter your first name.  Mariya\n",
      "Enter your last name.  Waseem\n",
      "Waseem Mariya\n"
     ]
    }
   ],
   "source": [
    "first_name = input(\"Enter your first name.  \");\n",
    "last_name = input(\"Enter your last name.  \");\n",
    "print(last_name + ' ' + first_name);\n"
   ]
  },
  {
   "cell_type": "markdown",
   "metadata": {},
   "source": [
    "# Task 6\n",
    "Take two input from user and print them iin addition."
   ]
  },
  {
   "cell_type": "code",
   "execution_count": 24,
   "metadata": {},
   "outputs": [
    {
     "name": "stdout",
     "output_type": "stream",
     "text": [
      " Enter first number: 23\n",
      " Enter second number: 56\n",
      "The total sum is : 79\n"
     ]
    }
   ],
   "source": [
    "inp1 = int(input(\" Enter first number: \"));\n",
    "inp2 = int(input(\" Enter second number: \"));\n",
    "comb = inp1+inp2;\n",
    "print(\"The total sum is :\" , comb);"
   ]
  }
 ],
 "metadata": {
  "kernelspec": {
   "display_name": "Python 3",
   "language": "python",
   "name": "python3"
  },
  "language_info": {
   "codemirror_mode": {
    "name": "ipython",
    "version": 3
   },
   "file_extension": ".py",
   "mimetype": "text/x-python",
   "name": "python",
   "nbconvert_exporter": "python",
   "pygments_lexer": "ipython3",
   "version": "3.7.6"
  }
 },
 "nbformat": 4,
 "nbformat_minor": 4
}
